{
 "cells": [
  {
   "cell_type": "code",
   "execution_count": 3,
   "id": "21819825-10d5-4be4-99f3-e08ea708120d",
   "metadata": {},
   "outputs": [
    {
     "data": {
      "text/plain": [
       "True"
      ]
     },
     "execution_count": 3,
     "metadata": {},
     "output_type": "execute_result"
    }
   ],
   "source": [
    "import cv2\n",
    "import numpy as np\n",
    "image =cv2.imread(r\"C:\\Users\\berra\\Desktop\\RKSoft\\7\\sudoku.png\")\n",
    "def harris(image_path):\n",
    "    # Harris köşe tespiti parametreleri\n",
    "    blockSize = 2\n",
    "    apertureSize = 3\n",
    "    k = 0.04\n",
    "\n",
    "    # Görüntüyü gri tonlamaya çevirin\n",
    "    gray = cv2.cvtColor(image, cv2.COLOR_BGR2GRAY)\n",
    "\n",
    "    # Harris köşe tespiti uygulayın\n",
    "    dst = cv2.cornerHarris(gray, blockSize, apertureSize, k)\n",
    "\n",
    "    # Sonuçları normalleştirin\n",
    "    dst_norm = np.empty(dst.shape, dtype=np.float32)\n",
    "    cv2.normalize(dst, dst_norm, alpha=0, beta=255, norm_type=cv2.NORM_MINMAX)\n",
    "\n",
    "    # Köşeleri işaretleyin\n",
    "    for i in range(dst_norm.shape[0]):\n",
    "        for j in range(dst_norm.shape[1]):\n",
    "            if int(dst_norm[i, j]) > 120:\n",
    "                cv2.circle(image, (j, i), 2, (0, 255, 0), 2)\n",
    "\n",
    "    return image\n",
    "\n",
    "# Fonksiyonu çağırın ve sonucu görüntüleyin\n",
    "result_image = harris(image)\n",
    "cv2.imwrite(r\"C:\\Users\\berra\\Desktop\\RKSoft\\7\\HarrisCorners.png\", result_image)"
   ]
  },
  {
   "cell_type": "code",
   "execution_count": 5,
   "id": "43709053-e914-431b-b349-3ae2b46d7a16",
   "metadata": {},
   "outputs": [
    {
     "name": "stdout",
     "output_type": "stream",
     "text": [
      "[[162. 279.]]\n",
      "[[ 90. 151.]]\n",
      "[[278. 205.]]\n",
      "[[206. 109.]]\n",
      "[[256. 197.]]\n",
      "[[184. 197.]]\n",
      "[[ 40. 197.]]\n",
      "[[256. 101.]]\n",
      "[[184. 101.]]\n",
      "[[ 40. 101.]]\n",
      "[[221. 260.]]\n",
      "[[221. 228.]]\n",
      "[[221. 164.]]\n",
      "[[221. 132.]]\n",
      "[[221.  68.]]\n",
      "[[221.  36.]]\n",
      "[[326. 260.]]\n",
      "[[326. 228.]]\n",
      "[[326. 164.]]\n",
      "[[326. 132.]]\n",
      "[[326.  68.]]\n",
      "[[326.  36.]]\n",
      "[[292. 197.]]\n",
      "[[148. 197.]]\n",
      "[[ 76. 197.]]\n",
      "[[292. 101.]]\n",
      "[[148. 101.]]\n",
      "[[ 76. 101.]]\n",
      "[[113. 260.]]\n",
      "[[113. 228.]]\n",
      "[[113. 164.]]\n",
      "[[113. 132.]]\n",
      "[[113.  68.]]\n",
      "[[113.  36.]]\n",
      "[[  5. 260.]]\n"
     ]
    },
    {
     "data": {
      "text/plain": [
       "True"
      ]
     },
     "execution_count": 5,
     "metadata": {},
     "output_type": "execute_result"
    }
   ],
   "source": [
    "import numpy as np\n",
    "import cv2\n",
    "\n",
    "image = cv2.imread(r\"C:\\Users\\berra\\Desktop\\RKSoft\\7\\sudoku.png\")\n",
    "\n",
    "def process(image):\n",
    "    # Görüntüyü gri tonlamaya çevirin\n",
    "    gray = cv2.cvtColor(image, cv2.COLOR_BGR2GRAY)\n",
    "    \n",
    "    # İyi özellikleri tespit edin (köşeler)\n",
    "    corners = cv2.goodFeaturesToTrack(gray, maxCorners=35, qualityLevel=0.05, minDistance=10)\n",
    "    \n",
    "    # Tespit edilen köşeler üzerinde döngü\n",
    "    for pt in corners:\n",
    "        print(pt)\n",
    "        \n",
    "        # Rastgele renkler oluşturun\n",
    "        b = np.random.randint(0, 256)\n",
    "        g = np.random.randint(0, 256)\n",
    "        r = np.random.randint(0, 256)\n",
    "        \n",
    "        # Köşe noktalarının koordinatlarını alın\n",
    "        x = int(pt[0][0])\n",
    "        y = int(pt[0][1])\n",
    "        \n",
    "        # Köşe noktalarına daireler çizin\n",
    "        cv2.circle(image, (x, y), 5, (int(b), int(g), int(r)), 2)\n",
    "    \n",
    "    return image\n",
    "\n",
    "# Fonksiyonu çağırın ve sonucu görüntüleyin\n",
    "result_image = process(image)\n",
    "cv2.imwrite(r\"C:\\Users\\berra\\Desktop\\RKSoft\\7\\ShiTomas.png\", result_image)\n"
   ]
  },
  {
   "cell_type": "code",
   "execution_count": null,
   "id": "5d4e9591-b976-48a8-8980-69f949aea553",
   "metadata": {},
   "outputs": [],
   "source": []
  }
 ],
 "metadata": {
  "kernelspec": {
   "display_name": "Python 3 (ipykernel)",
   "language": "python",
   "name": "python3"
  },
  "language_info": {
   "codemirror_mode": {
    "name": "ipython",
    "version": 3
   },
   "file_extension": ".py",
   "mimetype": "text/x-python",
   "name": "python",
   "nbconvert_exporter": "python",
   "pygments_lexer": "ipython3",
   "version": "3.12.4"
  }
 },
 "nbformat": 4,
 "nbformat_minor": 5
}
